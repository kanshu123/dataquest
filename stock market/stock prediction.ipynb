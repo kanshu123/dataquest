{
 "cells": [
  {
   "cell_type": "code",
   "execution_count": 34,
   "metadata": {
    "collapsed": false
   },
   "outputs": [
    {
     "data": {
      "text/html": [
       "<div>\n",
       "<table border=\"1\" class=\"dataframe\">\n",
       "  <thead>\n",
       "    <tr style=\"text-align: right;\">\n",
       "      <th></th>\n",
       "      <th>Date</th>\n",
       "      <th>Open</th>\n",
       "      <th>High</th>\n",
       "      <th>Low</th>\n",
       "      <th>Close</th>\n",
       "      <th>Volume</th>\n",
       "      <th>Adjusted Close</th>\n",
       "    </tr>\n",
       "  </thead>\n",
       "  <tbody>\n",
       "    <tr>\n",
       "      <th>0</th>\n",
       "      <td>2016-07-08</td>\n",
       "      <td>2106.969971</td>\n",
       "      <td>2131.709961</td>\n",
       "      <td>2106.969971</td>\n",
       "      <td>2129.899902</td>\n",
       "      <td>3.607500e+09</td>\n",
       "      <td>2129.899902</td>\n",
       "    </tr>\n",
       "    <tr>\n",
       "      <th>1</th>\n",
       "      <td>2016-07-07</td>\n",
       "      <td>2100.419922</td>\n",
       "      <td>2109.080078</td>\n",
       "      <td>2089.389893</td>\n",
       "      <td>2097.899902</td>\n",
       "      <td>3.604550e+09</td>\n",
       "      <td>2097.899902</td>\n",
       "    </tr>\n",
       "    <tr>\n",
       "      <th>2</th>\n",
       "      <td>2016-07-06</td>\n",
       "      <td>2084.429932</td>\n",
       "      <td>2100.719971</td>\n",
       "      <td>2074.020020</td>\n",
       "      <td>2099.729980</td>\n",
       "      <td>3.909380e+09</td>\n",
       "      <td>2099.729980</td>\n",
       "    </tr>\n",
       "    <tr>\n",
       "      <th>3</th>\n",
       "      <td>2016-07-05</td>\n",
       "      <td>2095.050049</td>\n",
       "      <td>2095.050049</td>\n",
       "      <td>2080.860107</td>\n",
       "      <td>2088.550049</td>\n",
       "      <td>3.658380e+09</td>\n",
       "      <td>2088.550049</td>\n",
       "    </tr>\n",
       "    <tr>\n",
       "      <th>4</th>\n",
       "      <td>2016-07-01</td>\n",
       "      <td>2099.340088</td>\n",
       "      <td>2108.709961</td>\n",
       "      <td>2097.899902</td>\n",
       "      <td>2102.949951</td>\n",
       "      <td>3.458890e+09</td>\n",
       "      <td>2102.949951</td>\n",
       "    </tr>\n",
       "  </tbody>\n",
       "</table>\n",
       "</div>"
      ],
      "text/plain": [
       "         Date         Open         High          Low        Close  \\\n",
       "0  2016-07-08  2106.969971  2131.709961  2106.969971  2129.899902   \n",
       "1  2016-07-07  2100.419922  2109.080078  2089.389893  2097.899902   \n",
       "2  2016-07-06  2084.429932  2100.719971  2074.020020  2099.729980   \n",
       "3  2016-07-05  2095.050049  2095.050049  2080.860107  2088.550049   \n",
       "4  2016-07-01  2099.340088  2108.709961  2097.899902  2102.949951   \n",
       "\n",
       "         Volume  Adjusted Close  \n",
       "0  3.607500e+09     2129.899902  \n",
       "1  3.604550e+09     2097.899902  \n",
       "2  3.909380e+09     2099.729980  \n",
       "3  3.658380e+09     2088.550049  \n",
       "4  3.458890e+09     2102.949951  "
      ]
     },
     "execution_count": 34,
     "metadata": {},
     "output_type": "execute_result"
    }
   ],
   "source": [
    "import pandas as pd\n",
    "from datetime import datetime\n",
    "sphist = pd.read_csv('YAHOO-INDEX_GSPC.csv')\n",
    "sphist.head()"
   ]
  },
  {
   "cell_type": "code",
   "execution_count": 63,
   "metadata": {
    "collapsed": false
   },
   "outputs": [
    {
     "data": {
      "text/plain": [
       "(320, 12)"
      ]
     },
     "execution_count": 63,
     "metadata": {},
     "output_type": "execute_result"
    }
   ],
   "source": [
    "sphist['Date'] =pd.to_datetime(sphist['Date'])\n",
    "new_sphist = sphist[sphist['Date']>datetime(year =2015, month = 4,day = 1)]\n",
    "new_sphist.shape"
   ]
  },
  {
   "cell_type": "code",
   "execution_count": 28,
   "metadata": {
    "collapsed": false
   },
   "outputs": [
    {
     "name": "stderr",
     "output_type": "stream",
     "text": [
      "//anaconda/lib/python3.5/site-packages/ipykernel/__main__.py:1: SettingWithCopyWarning: \n",
      "A value is trying to be set on a copy of a slice from a DataFrame\n",
      "\n",
      "See the caveats in the documentation: http://pandas.pydata.org/pandas-docs/stable/indexing.html#indexing-view-versus-copy\n",
      "  if __name__ == '__main__':\n"
     ]
    }
   ],
   "source": [
    "new_sphist.sort_values('Date', ascending = True,inplace = True)"
   ]
  },
  {
   "cell_type": "code",
   "execution_count": 60,
   "metadata": {
    "collapsed": false
   },
   "outputs": [],
   "source": [
    "sphist.sort_values('Date', ascending = True, inplace = True)\n",
    "day_mean = sphist['Close'].rolling(window=5).mean()\n",
    "sphist['5_day_mean'] = day_mean.shift(1)\n",
    "sphist['30_day_mean'] = sphist['Close'].rolling(window = 30).mean().shift(1)\n",
    "sphist['30_day_std'] = sphist['Close'].rolling(window = 30).std().shift(1)\n",
    "sphist['365_day_mean'] = sphist['Close'].rolling(window = 365).mean().shift(1)\n",
    "sphist['365_day_std'] = sphist['Close'].rolling(window = 365).std().shift(1)\n",
    "sphist.dropna(axis = 0,inplace = True)"
   ]
  },
  {
   "cell_type": "code",
   "execution_count": 75,
   "metadata": {
    "collapsed": false
   },
   "outputs": [
    {
     "data": {
      "text/html": [
       "<div>\n",
       "<table border=\"1\" class=\"dataframe\">\n",
       "  <thead>\n",
       "    <tr style=\"text-align: right;\">\n",
       "      <th></th>\n",
       "      <th>Date</th>\n",
       "      <th>Open</th>\n",
       "      <th>High</th>\n",
       "      <th>Low</th>\n",
       "      <th>Close</th>\n",
       "      <th>Volume</th>\n",
       "      <th>Adjusted Close</th>\n",
       "      <th>5_day_mean</th>\n",
       "      <th>30_day_mean</th>\n",
       "      <th>30_day_std</th>\n",
       "      <th>365_day_std</th>\n",
       "      <th>365_day_mean</th>\n",
       "    </tr>\n",
       "  </thead>\n",
       "  <tbody>\n",
       "    <tr>\n",
       "      <th>16371</th>\n",
       "      <td>1951-06-19</td>\n",
       "      <td>22.020000</td>\n",
       "      <td>22.020000</td>\n",
       "      <td>22.020000</td>\n",
       "      <td>22.020000</td>\n",
       "      <td>1100000.0</td>\n",
       "      <td>22.020000</td>\n",
       "      <td>21.800</td>\n",
       "      <td>21.703333</td>\n",
       "      <td>0.473595</td>\n",
       "      <td>1.790253</td>\n",
       "      <td>19.447726</td>\n",
       "    </tr>\n",
       "    <tr>\n",
       "      <th>16370</th>\n",
       "      <td>1951-06-20</td>\n",
       "      <td>21.910000</td>\n",
       "      <td>21.910000</td>\n",
       "      <td>21.910000</td>\n",
       "      <td>21.910000</td>\n",
       "      <td>1120000.0</td>\n",
       "      <td>21.910000</td>\n",
       "      <td>21.900</td>\n",
       "      <td>21.683000</td>\n",
       "      <td>0.444648</td>\n",
       "      <td>1.789307</td>\n",
       "      <td>19.462411</td>\n",
       "    </tr>\n",
       "    <tr>\n",
       "      <th>16369</th>\n",
       "      <td>1951-06-21</td>\n",
       "      <td>21.780001</td>\n",
       "      <td>21.780001</td>\n",
       "      <td>21.780001</td>\n",
       "      <td>21.780001</td>\n",
       "      <td>1100000.0</td>\n",
       "      <td>21.780001</td>\n",
       "      <td>21.972</td>\n",
       "      <td>21.659667</td>\n",
       "      <td>0.411452</td>\n",
       "      <td>1.788613</td>\n",
       "      <td>19.476274</td>\n",
       "    </tr>\n",
       "    <tr>\n",
       "      <th>16368</th>\n",
       "      <td>1951-06-22</td>\n",
       "      <td>21.549999</td>\n",
       "      <td>21.549999</td>\n",
       "      <td>21.549999</td>\n",
       "      <td>21.549999</td>\n",
       "      <td>1340000.0</td>\n",
       "      <td>21.549999</td>\n",
       "      <td>21.960</td>\n",
       "      <td>21.631000</td>\n",
       "      <td>0.368514</td>\n",
       "      <td>1.787659</td>\n",
       "      <td>19.489562</td>\n",
       "    </tr>\n",
       "    <tr>\n",
       "      <th>16367</th>\n",
       "      <td>1951-06-25</td>\n",
       "      <td>21.290001</td>\n",
       "      <td>21.290001</td>\n",
       "      <td>21.290001</td>\n",
       "      <td>21.290001</td>\n",
       "      <td>2440000.0</td>\n",
       "      <td>21.290001</td>\n",
       "      <td>21.862</td>\n",
       "      <td>21.599000</td>\n",
       "      <td>0.329130</td>\n",
       "      <td>1.786038</td>\n",
       "      <td>19.502082</td>\n",
       "    </tr>\n",
       "  </tbody>\n",
       "</table>\n",
       "</div>"
      ],
      "text/plain": [
       "            Date       Open       High        Low      Close     Volume  \\\n",
       "16371 1951-06-19  22.020000  22.020000  22.020000  22.020000  1100000.0   \n",
       "16370 1951-06-20  21.910000  21.910000  21.910000  21.910000  1120000.0   \n",
       "16369 1951-06-21  21.780001  21.780001  21.780001  21.780001  1100000.0   \n",
       "16368 1951-06-22  21.549999  21.549999  21.549999  21.549999  1340000.0   \n",
       "16367 1951-06-25  21.290001  21.290001  21.290001  21.290001  2440000.0   \n",
       "\n",
       "       Adjusted Close  5_day_mean  30_day_mean  30_day_std  365_day_std  \\\n",
       "16371       22.020000      21.800    21.703333    0.473595     1.790253   \n",
       "16370       21.910000      21.900    21.683000    0.444648     1.789307   \n",
       "16369       21.780001      21.972    21.659667    0.411452     1.788613   \n",
       "16368       21.549999      21.960    21.631000    0.368514     1.787659   \n",
       "16367       21.290001      21.862    21.599000    0.329130     1.786038   \n",
       "\n",
       "       365_day_mean  \n",
       "16371     19.447726  \n",
       "16370     19.462411  \n",
       "16369     19.476274  \n",
       "16368     19.489562  \n",
       "16367     19.502082  "
      ]
     },
     "execution_count": 75,
     "metadata": {},
     "output_type": "execute_result"
    }
   ],
   "source": [
    "train = sphist[sphist['Date']<datetime(year = 2013, month = 1, day = 1)]\n",
    "test = sphist[sphist['Date']>=datetime(year = 2013, month =1, day =1)]\n",
    "train.head()\n"
   ]
  },
  {
   "cell_type": "code",
   "execution_count": 85,
   "metadata": {
    "collapsed": false
   },
   "outputs": [],
   "source": [
    "from sklearn.linear_model import LinearRegression\n",
    "from sklearn.preprocessing import StandardScaler\n",
    "ss = StandardScaler()\n",
    "train_data = ss.fit_transform(train[['5_day_mean','30_day_mean','30_day_std','365_day_mean','365_day_std']])\n",
    "test_data = ss.transform(test[['5_day_mean','30_day_mean','30_day_std','365_day_mean','365_day_std']])"
   ]
  },
  {
   "cell_type": "code",
   "execution_count": 87,
   "metadata": {
    "collapsed": false
   },
   "outputs": [
    {
     "name": "stderr",
     "output_type": "stream",
     "text": [
      "//anaconda/lib/python3.5/site-packages/sklearn/utils/__init__.py:93: DeprecationWarning: Function residues_ is deprecated; ``residues_`` is deprecated and will be removed in 0.19\n",
      "  warnings.warn(msg, category=DeprecationWarning)\n"
     ]
    },
    {
     "data": {
      "text/plain": [
       "1683117.8383145721"
      ]
     },
     "execution_count": 87,
     "metadata": {},
     "output_type": "execute_result"
    }
   ],
   "source": [
    "lr = LinearRegression()\n",
    "lr.fit(train_data,train['Close'])\n",
    "close_pred = lr.predict(test_data)\n",
    "lr.residues_"
   ]
  },
  {
   "cell_type": "code",
   "execution_count": 92,
   "metadata": {
    "collapsed": false
   },
   "outputs": [
    {
     "data": {
      "text/plain": [
       "537.51448287174662"
      ]
     },
     "execution_count": 92,
     "metadata": {},
     "output_type": "execute_result"
    }
   ],
   "source": [
    "from sklearn.metrics import mean_absolute_error\n",
    "from sklearn.metrics import mean_squared_error\n",
    "mean_absolute_error = mean_absolute_error(y_true = test['Close'],y_pred = close_pred)\n",
    "mean_squared_error = mean_squared_error(y_true = test['Close'],y_pred = close_pred)\n",
    "mean_squared_error"
   ]
  },
  {
   "cell_type": "code",
   "execution_count": 94,
   "metadata": {
    "collapsed": false
   },
   "outputs": [
    {
     "name": "stderr",
     "output_type": "stream",
     "text": [
      "//anaconda/lib/python3.5/site-packages/ipykernel/__main__.py:1: SettingWithCopyWarning: \n",
      "A value is trying to be set on a copy of a slice from a DataFrame.\n",
      "Try using .loc[row_indexer,col_indexer] = value instead\n",
      "\n",
      "See the caveats in the documentation: http://pandas.pydata.org/pandas-docs/stable/indexing.html#indexing-view-versus-copy\n",
      "  if __name__ == '__main__':\n"
     ]
    }
   ],
   "source": [
    "test['close_pred'] = close_pred"
   ]
  },
  {
   "cell_type": "code",
   "execution_count": 95,
   "metadata": {
    "collapsed": false
   },
   "outputs": [
    {
     "data": {
      "text/html": [
       "<div>\n",
       "<table border=\"1\" class=\"dataframe\">\n",
       "  <thead>\n",
       "    <tr style=\"text-align: right;\">\n",
       "      <th></th>\n",
       "      <th>Date</th>\n",
       "      <th>Open</th>\n",
       "      <th>High</th>\n",
       "      <th>Low</th>\n",
       "      <th>Close</th>\n",
       "      <th>Volume</th>\n",
       "      <th>Adjusted Close</th>\n",
       "      <th>5_day_mean</th>\n",
       "      <th>30_day_mean</th>\n",
       "      <th>30_day_std</th>\n",
       "      <th>365_day_std</th>\n",
       "      <th>365_day_mean</th>\n",
       "      <th>close_pred</th>\n",
       "    </tr>\n",
       "  </thead>\n",
       "  <tbody>\n",
       "    <tr>\n",
       "      <th>885</th>\n",
       "      <td>2013-01-02</td>\n",
       "      <td>1426.189941</td>\n",
       "      <td>1462.430054</td>\n",
       "      <td>1426.189941</td>\n",
       "      <td>1462.420044</td>\n",
       "      <td>4.202600e+09</td>\n",
       "      <td>1462.420044</td>\n",
       "      <td>1418.641992</td>\n",
       "      <td>1414.258667</td>\n",
       "      <td>17.834740</td>\n",
       "      <td>90.463948</td>\n",
       "      <td>1327.534055</td>\n",
       "      <td>1418.586176</td>\n",
       "    </tr>\n",
       "    <tr>\n",
       "      <th>884</th>\n",
       "      <td>2013-01-03</td>\n",
       "      <td>1462.420044</td>\n",
       "      <td>1465.469971</td>\n",
       "      <td>1455.530029</td>\n",
       "      <td>1459.369995</td>\n",
       "      <td>3.829730e+09</td>\n",
       "      <td>1459.369995</td>\n",
       "      <td>1425.793994</td>\n",
       "      <td>1417.676668</td>\n",
       "      <td>16.852563</td>\n",
       "      <td>90.738976</td>\n",
       "      <td>1327.908247</td>\n",
       "      <td>1425.997715</td>\n",
       "    </tr>\n",
       "    <tr>\n",
       "      <th>883</th>\n",
       "      <td>2013-01-04</td>\n",
       "      <td>1459.369995</td>\n",
       "      <td>1467.939941</td>\n",
       "      <td>1458.989990</td>\n",
       "      <td>1466.469971</td>\n",
       "      <td>3.424290e+09</td>\n",
       "      <td>1466.469971</td>\n",
       "      <td>1433.702002</td>\n",
       "      <td>1420.092668</td>\n",
       "      <td>17.470824</td>\n",
       "      <td>90.995857</td>\n",
       "      <td>1328.224877</td>\n",
       "      <td>1434.401585</td>\n",
       "    </tr>\n",
       "    <tr>\n",
       "      <th>882</th>\n",
       "      <td>2013-01-07</td>\n",
       "      <td>1466.469971</td>\n",
       "      <td>1466.469971</td>\n",
       "      <td>1456.619995</td>\n",
       "      <td>1461.890015</td>\n",
       "      <td>3.304970e+09</td>\n",
       "      <td>1461.890015</td>\n",
       "      <td>1443.376001</td>\n",
       "      <td>1422.714665</td>\n",
       "      <td>18.339803</td>\n",
       "      <td>91.279049</td>\n",
       "      <td>1328.557617</td>\n",
       "      <td>1444.715285</td>\n",
       "    </tr>\n",
       "    <tr>\n",
       "      <th>881</th>\n",
       "      <td>2013-01-08</td>\n",
       "      <td>1461.890015</td>\n",
       "      <td>1461.890015</td>\n",
       "      <td>1451.640015</td>\n",
       "      <td>1457.150024</td>\n",
       "      <td>3.601600e+09</td>\n",
       "      <td>1457.150024</td>\n",
       "      <td>1455.267993</td>\n",
       "      <td>1425.076664</td>\n",
       "      <td>18.678333</td>\n",
       "      <td>91.544368</td>\n",
       "      <td>1328.898603</td>\n",
       "      <td>1457.418324</td>\n",
       "    </tr>\n",
       "  </tbody>\n",
       "</table>\n",
       "</div>"
      ],
      "text/plain": [
       "          Date         Open         High          Low        Close  \\\n",
       "885 2013-01-02  1426.189941  1462.430054  1426.189941  1462.420044   \n",
       "884 2013-01-03  1462.420044  1465.469971  1455.530029  1459.369995   \n",
       "883 2013-01-04  1459.369995  1467.939941  1458.989990  1466.469971   \n",
       "882 2013-01-07  1466.469971  1466.469971  1456.619995  1461.890015   \n",
       "881 2013-01-08  1461.890015  1461.890015  1451.640015  1457.150024   \n",
       "\n",
       "           Volume  Adjusted Close   5_day_mean  30_day_mean  30_day_std  \\\n",
       "885  4.202600e+09     1462.420044  1418.641992  1414.258667   17.834740   \n",
       "884  3.829730e+09     1459.369995  1425.793994  1417.676668   16.852563   \n",
       "883  3.424290e+09     1466.469971  1433.702002  1420.092668   17.470824   \n",
       "882  3.304970e+09     1461.890015  1443.376001  1422.714665   18.339803   \n",
       "881  3.601600e+09     1457.150024  1455.267993  1425.076664   18.678333   \n",
       "\n",
       "     365_day_std  365_day_mean   close_pred  \n",
       "885    90.463948   1327.534055  1418.586176  \n",
       "884    90.738976   1327.908247  1425.997715  \n",
       "883    90.995857   1328.224877  1434.401585  \n",
       "882    91.279049   1328.557617  1444.715285  \n",
       "881    91.544368   1328.898603  1457.418324  "
      ]
     },
     "execution_count": 95,
     "metadata": {},
     "output_type": "execute_result"
    }
   ],
   "source": [
    "test.head()"
   ]
  },
  {
   "cell_type": "code",
   "execution_count": 97,
   "metadata": {
    "collapsed": false
   },
   "outputs": [
    {
     "data": {
      "text/plain": [
       "0.98452551671364741"
      ]
     },
     "execution_count": 97,
     "metadata": {},
     "output_type": "execute_result"
    }
   ],
   "source": [
    "lr.score(test_data,test['Close'])"
   ]
  },
  {
   "cell_type": "code",
   "execution_count": null,
   "metadata": {
    "collapsed": true
   },
   "outputs": [],
   "source": []
  }
 ],
 "metadata": {
  "anaconda-cloud": {},
  "kernelspec": {
   "display_name": "Python [Root]",
   "language": "python",
   "name": "Python [Root]"
  },
  "language_info": {
   "codemirror_mode": {
    "name": "ipython",
    "version": 3
   },
   "file_extension": ".py",
   "mimetype": "text/x-python",
   "name": "python",
   "nbconvert_exporter": "python",
   "pygments_lexer": "ipython3",
   "version": "3.5.2"
  }
 },
 "nbformat": 4,
 "nbformat_minor": 0
}
